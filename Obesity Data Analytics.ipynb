{
 "cells": [
  {
   "cell_type": "code",
   "execution_count": 1,
   "id": "77b4b589",
   "metadata": {},
   "outputs": [
    {
     "ename": "ModuleNotFoundError",
     "evalue": "No module named 'pandas'",
     "output_type": "error",
     "traceback": [
      "\u001B[1;31m---------------------------------------------------------------------------\u001B[0m",
      "\u001B[1;31mModuleNotFoundError\u001B[0m                       Traceback (most recent call last)",
      "Input \u001B[1;32mIn [1]\u001B[0m, in \u001B[0;36m<module>\u001B[1;34m\u001B[0m\n\u001B[0;32m      1\u001B[0m \u001B[38;5;66;03m# importing libraries\u001B[39;00m\n\u001B[1;32m----> 2\u001B[0m \u001B[38;5;28;01mimport\u001B[39;00m \u001B[38;5;21;01mpandas\u001B[39;00m \u001B[38;5;28;01mas\u001B[39;00m \u001B[38;5;21;01mpd\u001B[39;00m\n\u001B[0;32m      3\u001B[0m \u001B[38;5;28;01mimport\u001B[39;00m \u001B[38;5;21;01mseaborn\u001B[39;00m \u001B[38;5;28;01mas\u001B[39;00m \u001B[38;5;21;01msns\u001B[39;00m\n\u001B[0;32m      4\u001B[0m \u001B[38;5;28;01mimport\u001B[39;00m \u001B[38;5;21;01mmatplotlib\u001B[39;00m\u001B[38;5;21;01m.\u001B[39;00m\u001B[38;5;21;01mpyplot\u001B[39;00m \u001B[38;5;28;01mas\u001B[39;00m \u001B[38;5;21;01mplt\u001B[39;00m\n",
      "\u001B[1;31mModuleNotFoundError\u001B[0m: No module named 'pandas'"
     ]
    }
   ],
   "source": [
    "# importing libraries\n",
    "import pandas as pd\n",
    "import seaborn as sns\n",
    "import matplotlib.pyplot as plt\n",
    "import numpy as np\n",
    "from sklearn.preprocessing import MinMaxScaler, LabelEncoder\n",
    "import seaborn as sns\n",
    "from sklearn.impute import SimpleImputer\n",
    "from sklearn import preprocessing\n",
    "from sklearn.preprocessing import OneHotEncoder\n",
    "import warnings\n",
    "from IPython.core.interactiveshell import InteractiveShell\n",
    "from sklearn.tree import DecisionTreeClassifier\n",
    "from sklearn.svm import SVC\n",
    "from sklearn.ensemble import RandomForestClassifier\n",
    "from sklearn import metrics\n",
    "from sklearn.preprocessing import StandardScaler\n",
    "from sklearn.linear_model import LogisticRegression\n",
    "from sklearn.metrics import accuracy_score, classification_report, confusion_matrix\n",
    "from sklearn.preprocessing import MinMaxScaler\n",
    "from sklearn.model_selection import train_test_split, cross_val_score, KFold\n",
    "from sklearn.decomposition import PCA"
   ]
  },
  {
   "cell_type": "markdown",
   "id": "20c1a58f",
   "metadata": {},
   "source": [
    "## Data Explanation"
   ]
  },
  {
   "cell_type": "markdown",
   "id": "134ac043",
   "metadata": {},
   "source": [
    "Data source: https://archive.ics.uci.edu/ml/datasets/Estimation+of+obesity+levels+based+on+eating+habits+and+physical+condition+\n",
    "\n",
    "Data attributes:\n",
    "The attributes of our observation data is: \n",
    "- Frequent consumption of high caloric food (FAVC).\n",
    "- Frequency of consumption of vegetables (FCVC).\n",
    "- Number of main meals (NCP).\n",
    "- Consumption of food between meals (CAEC)\n",
    "- Consumption of water daily (CH20)\n",
    "- Consumption of alcohol (CALC)\n",
    "\n",
    "The attributes related with the physical condition are: \n",
    "- Calories consumption monitoring (SCC).\n",
    "- Physical activity frequency (FAF).\n",
    "- Time using technology devices (TUE).\n",
    "- Transportation used (MTRANS), \n",
    "- Gender\n",
    "- Age\n",
    "- Height\n",
    "- Weight"
   ]
  },
  {
   "cell_type": "markdown",
   "id": "3dcfb6ea",
   "metadata": {},
   "source": [
    "### Reading in the data"
   ]
  },
  {
   "cell_type": "code",
   "execution_count": null,
   "id": "ec406209",
   "metadata": {
    "pycharm": {
     "name": "#%%\n"
    },
    "scrolled": true
   },
   "outputs": [],
   "source": [
    "warnings.filterwarnings('ignore')\n",
    "%config InlineBackend.figure_format = 'retina'\n",
    "InteractiveShell.ast_node_interactivity= 'all'\n",
    "data = pd.read_csv('ObesityDataSet_raw_and_data_sinthetic.csv')\n",
    "data.head(10)\n",
    "data.tail(10)\n",
    "#data.tail(10)\n",
    "#data.info()"
   ]
  },
  {
   "cell_type": "code",
   "execution_count": null,
   "id": "928a2e29",
   "metadata": {
    "pycharm": {
     "name": "#%%\n"
    }
   },
   "outputs": [],
   "source": [
    "#converting some of the features to round numbers as some of the variables were continuous and not round numbers\n",
    "data.FCVC = data[\"FCVC\"].round(decimals=0)\n",
    "data.CH20 = data[\"CH2O\"].round(decimals=0)\n",
    "data.FAF= data[\"FAF\"].round(decimals=0)\n",
    "data.TUE= data[\"TUE\"].round(decimals=0)\n",
    "data.head(10)\n",
    "data.tail(10)"
   ]
  },
  {
   "cell_type": "code",
   "execution_count": null,
   "id": "74e5447a",
   "metadata": {},
   "outputs": [],
   "source": [
    "data.info()"
   ]
  },
  {
   "cell_type": "code",
   "execution_count": null,
   "id": "263e65e0",
   "metadata": {
    "scrolled": true
   },
   "outputs": [],
   "source": [
    "data.isnull().sum()"
   ]
  },
  {
   "cell_type": "markdown",
   "id": "0b2898f9",
   "metadata": {},
   "source": [
    "# Summary statitics of the data"
   ]
  },
  {
   "cell_type": "code",
   "execution_count": null,
   "id": "59a42fce",
   "metadata": {},
   "outputs": [],
   "source": [
    "\n",
    "data.describe().T\n",
    "data.info()"
   ]
  },
  {
   "cell_type": "code",
   "execution_count": null,
   "id": "76f25c8a",
   "metadata": {},
   "outputs": [],
   "source": [
    "data.shape"
   ]
  },
  {
   "cell_type": "code",
   "execution_count": null,
   "id": "70173759",
   "metadata": {},
   "outputs": [],
   "source": [
    "data['Gender'].value_counts()"
   ]
  },
  {
   "cell_type": "code",
   "execution_count": null,
   "id": "e6074601",
   "metadata": {},
   "outputs": [],
   "source": [
    "data['Age'].value_counts()"
   ]
  },
  {
   "cell_type": "code",
   "execution_count": null,
   "id": "04f848e1",
   "metadata": {},
   "outputs": [],
   "source": [
    "data['family_history_with_overweight'].describe()"
   ]
  },
  {
   "cell_type": "code",
   "execution_count": null,
   "id": "c08ebefc",
   "metadata": {},
   "outputs": [],
   "source": [
    "data[\"Height\"].describe()"
   ]
  },
  {
   "cell_type": "code",
   "execution_count": null,
   "id": "049f3fe3",
   "metadata": {},
   "outputs": [],
   "source": [
    "data['FAVC'].describe()\n",
    " "
   ]
  },
  {
   "cell_type": "code",
   "execution_count": null,
   "id": "338ffe9e",
   "metadata": {},
   "outputs": [],
   "source": [
    "data['NCP'].describe()"
   ]
  },
  {
   "cell_type": "code",
   "execution_count": null,
   "id": "e5da8808",
   "metadata": {},
   "outputs": [],
   "source": [
    "data['CAEC'].describe()"
   ]
  },
  {
   "cell_type": "code",
   "execution_count": null,
   "id": "dd6b28ac",
   "metadata": {},
   "outputs": [],
   "source": [
    "data['SMOKE'].describe()"
   ]
  },
  {
   "cell_type": "code",
   "execution_count": null,
   "id": "01488e0c",
   "metadata": {},
   "outputs": [],
   "source": [
    "data['NObeyesdad'].describe()"
   ]
  },
  {
   "cell_type": "code",
   "execution_count": null,
   "id": "8bbddcdf",
   "metadata": {},
   "outputs": [],
   "source": [
    "data['MTRANS'].describe()"
   ]
  },
  {
   "cell_type": "code",
   "execution_count": null,
   "id": "c1094f41",
   "metadata": {},
   "outputs": [],
   "source": [
    "data['TUE'].describe()"
   ]
  },
  {
   "cell_type": "code",
   "execution_count": null,
   "id": "9d85586c",
   "metadata": {},
   "outputs": [],
   "source": [
    "data['FAF'].describe()"
   ]
  },
  {
   "cell_type": "code",
   "execution_count": null,
   "id": "b6caea4c",
   "metadata": {},
   "outputs": [],
   "source": [
    "data['CH2O'].describe()"
   ]
  },
  {
   "cell_type": "code",
   "execution_count": null,
   "id": "4458e6ff",
   "metadata": {},
   "outputs": [],
   "source": [
    "data['SCC'].describe()"
   ]
  },
  {
   "cell_type": "code",
   "execution_count": null,
   "id": "cde7ffe0",
   "metadata": {},
   "outputs": [],
   "source": [
    "data['CALC'].describe()"
   ]
  },
  {
   "cell_type": "code",
   "execution_count": null,
   "id": "16c3d449",
   "metadata": {},
   "outputs": [],
   "source": [
    "data.sample(20)"
   ]
  },
  {
   "cell_type": "markdown",
   "id": "ab068815",
   "metadata": {},
   "source": [
    "# Data Visualization"
   ]
  },
  {
   "cell_type": "markdown",
   "id": "53b385e9",
   "metadata": {},
   "source": [
    "### Analyzing the distribution of the gender of patients\n",
    "From the analysis below, the observation data comprises of almost the same number of both male and female gender."
   ]
  },
  {
   "cell_type": "code",
   "execution_count": null,
   "id": "51efc5a3",
   "metadata": {},
   "outputs": [],
   "source": [
    "#Analysing the distributin of the gender of respondent\n",
    "sns.countplot(x = 'Gender', data = data)"
   ]
  },
  {
   "cell_type": "code",
   "execution_count": null,
   "id": "11b85e50",
   "metadata": {},
   "outputs": [],
   "source": [
    "#Understanding how Calories consumption monitoring (SCC) influenced patients weight From the analysis below.\n",
    "\n",
    "plt.bar('SCC', 'Weight', data = data)\n",
    "plt.ylabel('Weight')\n",
    "plt.xlabel('SCC')"
   ]
  },
  {
   "cell_type": "code",
   "execution_count": null,
   "id": "79c811ad",
   "metadata": {
    "pycharm": {
     "name": "#%%\n"
    }
   },
   "outputs": [],
   "source": [
    "sns.kdeplot(x = 'Age', data = data)"
   ]
  },
  {
   "cell_type": "code",
   "execution_count": null,
   "id": "3ae2a1be",
   "metadata": {},
   "outputs": [],
   "source": [
    "# Showing the distribution of the different levels of Obesity\n",
    "_,ax = plt.subplots(figsize=(13,6))\n",
    "sns.countplot(x = 'NObeyesdad', data = data, ax=ax)\n",
    "pd.set_option('display.width',1000)\n",
    "plt.show()\n"
   ]
  },
  {
   "cell_type": "code",
   "execution_count": null,
   "id": "386298ed",
   "metadata": {},
   "outputs": [],
   "source": [
    "#checkig for skewness \n",
    "pd.set_option(\"display.width\", 1000)\n",
    "data.hist(figsize=(10, 10))\n",
    "plt.show()"
   ]
  },
  {
   "cell_type": "code",
   "execution_count": null,
   "id": "fd216257",
   "metadata": {},
   "outputs": [],
   "source": [
    "#checking for outliers\n",
    "\n",
    "_, ax = plt.subplots(figsize=(15, 15))\n",
    "data.plot(kind='box', ax= ax)"
   ]
  },
  {
   "cell_type": "code",
   "execution_count": null,
   "id": "bc2586ac",
   "metadata": {},
   "outputs": [],
   "source": [
    "#diagram showing that majority of the respondent were in the middle age btw 19-26, and 27-29\n",
    "_,ax = plt.subplots(figsize=(13,6))\n",
    "sns.scatterplot(x='NObeyesdad', y='Age', hue= 'Gender', ax=ax, data = data)"
   ]
  },
  {
   "cell_type": "markdown",
   "id": "3e0d41ef",
   "metadata": {},
   "source": [
    "### Analyzing the gender with respect to their age distribution"
   ]
  },
  {
   "cell_type": "code",
   "execution_count": null,
   "id": "9b7b57e0",
   "metadata": {},
   "outputs": [],
   "source": [
    "#Analysing gender with respect to their age distribution\n",
    "sns.barplot(x = 'Gender', y = 'Age', data = data)"
   ]
  },
  {
   "cell_type": "code",
   "execution_count": null,
   "id": "75a50883",
   "metadata": {
    "pycharm": {
     "name": "#%%\n"
    }
   },
   "outputs": [],
   "source": [
    "#Analysing high caloric intaje with  with respect to their weight distribution\n",
    "sns.violinplot(x = 'FAVC', y = 'Weight', data = data)"
   ]
  },
  {
   "cell_type": "markdown",
   "id": "f8be0fc4",
   "metadata": {},
   "source": [
    "### Understanding the composition of patients with family history of overweight\n",
    "From the analysis below we can deduce that the percentage of patients who have family history of being overweight is higer than the patients without family history of being overweight."
   ]
  },
  {
   "cell_type": "code",
   "execution_count": null,
   "id": "3a83ef38",
   "metadata": {},
   "outputs": [],
   "source": [
    "#Understanding the composition of patients with family history of overweight\n",
    "sns.countplot(x = 'family_history_with_overweight', data = data)"
   ]
  },
  {
   "cell_type": "markdown",
   "id": "9a6c6dd1",
   "metadata": {},
   "source": [
    "## Predictive Analytics/Machine learning"
   ]
  },
  {
   "cell_type": "markdown",
   "id": "bde24cc0",
   "metadata": {},
   "source": [
    "### Create the target variable from variable 'NObeyesdad\"\n",
    "Encoding the target variable"
   ]
  },
  {
   "cell_type": "code",
   "execution_count": null,
   "id": "080e2ad6",
   "metadata": {},
   "outputs": [],
   "source": [
    "#creating a function to help ascertain my data\n",
    "\n",
    "def status_converter(value):\n",
    "    if value == 'Normal_Weight':\n",
    "        return 2\n",
    "    elif value == 'Overweight_Level_I':\n",
    "        return 3\n",
    "    elif value == 'Overweight_Level_II':\n",
    "        return 3\n",
    "    elif value == 'Obesity_Type_I':\n",
    "        return 4\n",
    "    elif value == 'Obesity_Type_II':\n",
    "        return 4\n",
    "    elif value == 'Obesity_Type_III':\n",
    "        return 4\n",
    "    elif value == 'Insufficient_Weight':\n",
    "        return 1\n",
    "    else:\n",
    "        return null\n",
    "\n",
    " "
   ]
  },
  {
   "cell_type": "code",
   "execution_count": null,
   "id": "bee7fbbb",
   "metadata": {},
   "outputs": [],
   "source": [
    "#creating a new name for my target variable\n",
    "data['ObesityStatus'] = data['NObeyesdad'].apply(status_converter)\n",
    "data.head()"
   ]
  },
  {
   "cell_type": "code",
   "execution_count": null,
   "id": "92ebea52",
   "metadata": {
    "pycharm": {
     "name": "#%%\n"
    }
   },
   "outputs": [],
   "source": [
    "corr_matrix = data.corr()\n",
    "#plt.plot_size(10, 12)\n",
    "sns.heatmap(corr_matrix, vmin=-1, vmax=1, annot=True)"
   ]
  },
  {
   "cell_type": "markdown",
   "id": "9b62b546",
   "metadata": {},
   "source": [
    "### Visualizing the target variable"
   ]
  },
  {
   "cell_type": "code",
   "execution_count": null,
   "id": "fc7bde9f",
   "metadata": {
    "pycharm": {
     "name": "#%%\n"
    }
   },
   "outputs": [],
   "source": [
    "sns.countplot(x = 'ObesityStatus', data = data)"
   ]
  },
  {
   "cell_type": "code",
   "execution_count": null,
   "id": "b2e67bed",
   "metadata": {
    "pycharm": {
     "name": "#%%\n"
    }
   },
   "outputs": [],
   "source": [
    "data.columns\n",
    "#data_corr = data.corr() ['NObeyesdad'].abs().sort_values(ascending=False)\n",
    "#print(data_corr)"
   ]
  },
  {
   "cell_type": "code",
   "execution_count": null,
   "id": "1719c993",
   "metadata": {
    "pycharm": {
     "name": "#%%\n"
    }
   },
   "outputs": [],
   "source": [
    "#Target variable\n",
    "y = data.ObesityStatus"
   ]
  },
  {
   "cell_type": "raw",
   "id": "c5321466",
   "metadata": {
    "pycharm": {
     "name": "#%% raw\n"
    }
   },
   "source": [
    "Encoding Categorical variable    `"
   ]
  },
  {
   "cell_type": "code",
   "execution_count": null,
   "id": "4b9e2efa",
   "metadata": {
    "pycharm": {
     "name": "#%%\n"
    }
   },
   "outputs": [],
   "source": [
    "#using the dummy encoding\n",
    "categorical_variables = ['Gender','family_history_with_overweight','FAVC','CAEC','SMOKE','SCC','CALC','MTRANS']\n",
    "data = pd.get_dummies(data, columns = categorical_variables)\n",
    "data.head()"
   ]
  },
  {
   "cell_type": "raw",
   "id": "ab1de2e2",
   "metadata": {
    "pycharm": {
     "name": "#%% raw\n"
    }
   },
   "source": [
    "Extracting the independent & target variables"
   ]
  },
  {
   "cell_type": "code",
   "execution_count": null,
   "id": "86dc0360",
   "metadata": {},
   "outputs": [],
   "source": [
    "y = data['ObesityStatus']\n",
    "data.drop(columns = ['NObeyesdad', 'ObesityStatus'], inplace = True)\n",
    "x = data\n",
    "\n",
    "# We Convert the independent and target variables into a numpy array for PCA\n",
    "\n",
    "x = x.values\n",
    "y = y.values\n"
   ]
  },
  {
   "cell_type": "code",
   "execution_count": null,
   "id": "53f14ddd",
   "metadata": {
    "pycharm": {
     "name": "#%%\n"
    }
   },
   "outputs": [],
   "source": [
    "x"
   ]
  },
  {
   "cell_type": "markdown",
   "id": "6de70f51",
   "metadata": {
    "pycharm": {
     "name": "#%% md\n"
    }
   },
   "source": [
    "### Perform a train-test-split"
   ]
  },
  {
   "cell_type": "code",
   "execution_count": null,
   "id": "0ef2ae41",
   "metadata": {
    "pycharm": {
     "name": "#%%\n"
    }
   },
   "outputs": [],
   "source": [
    "#from sklearn.model_selection import train_test_split # Import train_test_split function\n",
    "#from sklearn.cross_validation import train_test_split\n",
    "# Split dataset into training set and test set\n",
    "X_train, X_test, y_train, y_test = train_test_split(x, y, test_size=0.3, random_state=1) # 70% training and 30% test\n",
    "print(y_test.shape)"
   ]
  },
  {
   "cell_type": "code",
   "execution_count": null,
   "id": "a6f94fc6",
   "metadata": {
    "pycharm": {
     "name": "#%%\n"
    }
   },
   "outputs": [],
   "source": [
    "scaler = preprocessing.MinMaxScaler(feature_range=(0, 1))\n",
    "scaled_x_train = scaler.fit_transform(X_train)\n",
    "scaled_x_test = scaler.transform(X_test)\n",
    "scaled_x_train\n",
    "\n"
   ]
  },
  {
   "cell_type": "raw",
   "id": "31eb5c0c",
   "metadata": {
    "pycharm": {
     "name": "#%% raw\n"
    }
   },
   "source": [
    "Using the Principal Component Analysis"
   ]
  },
  {
   "cell_type": "code",
   "execution_count": null,
   "id": "10ae6d45",
   "metadata": {
    "pycharm": {
     "name": "#%%\n"
    }
   },
   "outputs": [],
   "source": [
    "components = None\n",
    "pca = PCA(n_components=components)\n",
    "pca.fit(scaled_x_train)\n",
    "print('Variances(Percentage):')\n",
    "print(pca.explained_variance_ratio_ * 100)\n",
    "\n"
   ]
  },
  {
   "cell_type": "code",
   "execution_count": null,
   "id": "cda9b735",
   "metadata": {
    "pycharm": {
     "name": "#%%\n"
    }
   },
   "outputs": [],
   "source": [
    "#plotting a scree plot\n",
    "components= len(pca.explained_variance_ratio_) \\\n",
    "    if components is None else components\n",
    "plt.plot(range(1, components+1), np.cumsum(pca.explained_variance_ratio_ * 100))\n",
    "plt.xlabel('Number of components')\n",
    "plt.ylabel('Explained variance (%)')\n"
   ]
  },
  {
   "cell_type": "code",
   "execution_count": null,
   "id": "c322239b",
   "metadata": {
    "pycharm": {
     "name": "#%%\n"
    }
   },
   "outputs": [],
   "source": [
    "pca = PCA(n_components= 0.75)\n",
    "pca.fit (scaled_x_train)\n",
    "\n",
    "print('Cumulative Variances(Percentage) :')\n",
    "print(np.cumsum(pca.explained_variance_ratio_ * 100))\n",
    "components = len(pca.explained_variance_ratio_)\n",
    "print(f'Number of components: (components)')\n",
    "\n",
    "#making the skree plot\n",
    "plt.plot(range(1, components + 1), np.cumsum(pca.explained_variance_ratio_ * 100))\n",
    "plt.xlabel('Number of components')\n",
    "plt.ylabel('Explained variance (%)')"
   ]
  },
  {
   "cell_type": "code",
   "execution_count": null,
   "id": "192869ca",
   "metadata": {
    "pycharm": {
     "name": "#%%\n"
    }
   },
   "outputs": [],
   "source": [
    "#understanding the importance of each features\n",
    "#pca_components = abs(pca.components_)\n"
   ]
  },
  {
   "cell_type": "code",
   "execution_count": null,
   "id": "565f2353",
   "metadata": {
    "pycharm": {
     "name": "#%%\n"
    }
   },
   "outputs": [],
   "source": [
    "#understanding the importance of each features\n",
    "pca_components = abs(pca.components_)\n",
    "#printing the 7 most important features in each components\n",
    "print('Top 7 most important features in each components')\n",
    "for row in range(pca_components.shape[0]):\n",
    "    temp = np.argpartition(-(pca_components[row]), 7)\n",
    "    indices= temp[np.argsort((-pca_components[row]) [temp])] [:7]\n",
    "    print(f'Components {row}: {data.columns[indices]. to_list() }')\n",
    "\n"
   ]
  },
  {
   "cell_type": "code",
   "execution_count": null,
   "id": "4be70fac",
   "metadata": {
    "pycharm": {
     "name": "#%%\n"
    }
   },
   "outputs": [],
   "source": [
    "pca = PCA(n_components= components)\n",
    "scaled_x_train = pca.fit_transform(scaled_x_train)\n",
    "scaled_x_test = pca.fit_transform(scaled_x_test)\n"
   ]
  },
  {
   "cell_type": "markdown",
   "id": "fabecaa3",
   "metadata": {},
   "source": [
    " Using Logistics Regression Model"
   ]
  },
  {
   "cell_type": "code",
   "execution_count": null,
   "id": "9088c512",
   "metadata": {
    "pycharm": {
     "name": "#%%\n"
    }
   },
   "outputs": [],
   "source": [
    "log_model = LogisticRegression(random_state=0)\n",
    "\n",
    "# Training a logistics model\n",
    "log_model.fit(scaled_x_train, y_train)\n",
    "y_prediction = log_model.predict(scaled_x_test)\n",
    "#checking for model accuracy\n",
    "print(y_prediction)\n",
    "accuracy = metrics.accuracy_score(y_test, y_prediction) * 100\n",
    "accuracy\n",
    "class_report = metrics.classification_report(y_test, y_prediction)\n",
    "print('Report of Classification;\\n', class_report)\n",
    "#print(log_model.coef_)\n",
    "#print(log_model.intercept_)\n",
    "#confusion_matrix(y_test, y_prediction)\n"
   ]
  },
  {
   "cell_type": "code",
   "execution_count": null,
   "id": "af98cc95",
   "metadata": {
    "pycharm": {
     "name": "#%%\n"
    }
   },
   "outputs": [],
   "source": [
    "#dt_model = DecisionTreeClassifier(max_depth=4, min_samples_split=2, criterion='gini', random_state=1)\n",
    "dt_model = DecisionTreeClassifier()\n",
    "# Training a decision tree model\n",
    "dt_model.fit(scaled_x_train, y_train)\n",
    "dt_y_prediction = dt_model.predict(scaled_x_test)\n",
    "# Checking for model accuracy score\n",
    "print(dt_y_prediction)\n",
    "accuracy = metrics.accuracy_score(y_test, dt_y_prediction) * 100\n",
    "accuracy\n",
    "\n",
    "class_report = classification_report(y_test, y_prediction)\n",
    "print('Report of Classification;\\n', class_report)\n",
    "confusion_matrix(y_test, y_prediction)\n",
    "#tuning my model for a better performance\n",
    "#SEED= 1\n",
    "#dt_model= DecisionTreeClassifier(max_depth=4, min_samples_leaf=8, random_state= SEED)\n"
   ]
  },
  {
   "cell_type": "markdown",
   "id": "e5883ab6",
   "metadata": {
    "pycharm": {
     "name": "#%% md\n"
    }
   },
   "source": [
    "\n",
    "Using a Support Vector Classifier"
   ]
  },
  {
   "cell_type": "code",
   "execution_count": null,
   "id": "bbc4cd41",
   "metadata": {
    "pycharm": {
     "name": "#%%\n"
    }
   },
   "outputs": [],
   "source": [
    "svc_model = SVC()\n",
    "\n",
    "# Training support vector classifier model\n",
    "svc_model.fit(scaled_x_train, y_train)\n",
    "svc_y_prediction = svc_model.predict(scaled_x_test)\n",
    "#checking for model accuracy score\n",
    "print(svc_y_prediction)\n",
    "accuracy = metrics.accuracy_score(y_test, svc_y_prediction)*100\n",
    "accuracy\n",
    "class_report = classification_report(y_test, y_prediction)\n",
    "print('Report of Classification;\\n', class_report)\n"
   ]
  },
  {
   "cell_type": "markdown",
   "id": "83c634d3",
   "metadata": {
    "pycharm": {
     "name": "#%% md\n"
    }
   },
   "source": [
    "\n",
    "Using a Random Forest Classifier"
   ]
  },
  {
   "cell_type": "code",
   "execution_count": null,
   "id": "64a44a6e",
   "metadata": {
    "pycharm": {
     "name": "#%%\n"
    }
   },
   "outputs": [],
   "source": [
    "rfc_model = RandomForestClassifier()\n",
    "#rfc_model = RandomForestClassifier(max_depth=4, min_samples_leaf=8)\n",
    "\n",
    "# Training a random forest classifier model\n",
    "rfc_model.fit(scaled_x_train, y_train)\n",
    "rfc_y_prediction = rfc_model.predict(scaled_x_test)\n",
    "# Checking for model accuracy score\n",
    "print(rfc_y_prediction)\n",
    "accuracy = metrics.accuracy_score(y_test, rfc_y_prediction) * 100\n",
    "accuracy\n",
    "confusion_matrix(y_test, y_prediction)\n",
    "class_report = classification_report(y_test, y_prediction)\n",
    "print('Report of Classification;\\n', class_report)\n",
    "\n",
    "\n",
    "#tuning my model for a better performance\n",
    "#SEED= 1\n",
    "#rfc_model= RandomForestClassifier(max_depth=4, min_samples_leaf=8, random_state= SEED)\n"
   ]
  },
  {
   "cell_type": "code",
   "execution_count": null,
   "id": "795f4964",
   "metadata": {
    "pycharm": {
     "name": "#%%\n"
    }
   },
   "outputs": [],
   "source": []
  }
 ],
 "metadata": {
  "kernelspec": {
   "display_name": "Python 3 (ipykernel)",
   "language": "python",
   "name": "python3"
  },
  "language_info": {
   "codemirror_mode": {
    "name": "ipython",
    "version": 3
   },
   "file_extension": ".py",
   "mimetype": "text/x-python",
   "name": "python",
   "nbconvert_exporter": "python",
   "pygments_lexer": "ipython3",
   "version": "3.8.0"
  }
 },
 "nbformat": 4,
 "nbformat_minor": 5
}